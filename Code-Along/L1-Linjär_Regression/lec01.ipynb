{
 "cells": [
  {
   "cell_type": "markdown",
   "metadata": {},
   "source": [
    "### Linjär regression\n",
    "\n",
    "- Simpel linjär regression\n",
    "- Kvadrering \"straffa värden\" som är längre bort.\n",
    "\n",
    "![](2023-02-13-10-34-37.png)\n"
   ]
  }
 ],
 "metadata": {
  "language_info": {
   "name": "python"
  },
  "orig_nbformat": 4
 },
 "nbformat": 4,
 "nbformat_minor": 2
}
