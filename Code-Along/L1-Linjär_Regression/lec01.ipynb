{
 "cells": [
  {
   "cell_type": "markdown",
   "metadata": {},
   "source": [
    "### Linjär regression\n",
    "\n",
    "- Simpel linjär regression\n",
    "- Kvadrering \"straffa värden\" som är längre bort.\n",
    "\n",
    "![](2023-02-13-10-34-37.png)\n"
   ]
  },
  {
   "attachments": {},
   "cell_type": "markdown",
   "metadata": {},
   "source": [
    "![](2023-02-13-11-06-30.png)"
   ]
  },
  {
   "attachments": {},
   "cell_type": "markdown",
   "metadata": {},
   "source": [
    "### Train Test Split\n",
    "\n",
    "- Data leakage: Dålig split\n",
    "- Evalutation:\n",
    "- MAE - mean absolute error ( straffar inte outliers)\n",
    "- MSE - mean square error ( straffar outliers ) - kan vara svårare att tolka pga enheten i kvadrat, tex (kr^2)\n",
    "- RMSE = Roten ur MSE - ursprungsenhet\n",
    "\n",
    "\n",
    "![](2023-02-13-11-20-09.png)"
   ]
  },
  {
   "cell_type": "markdown",
   "metadata": {},
   "source": []
  }
 ],
 "metadata": {
  "kernelspec": {
   "display_name": "Python 3",
   "language": "python",
   "name": "python3"
  },
  "language_info": {
   "name": "python",
   "version": "3.11.1"
  },
  "orig_nbformat": 4,
  "vscode": {
   "interpreter": {
    "hash": "5a826182ff2e370e00dfcd71450be1d8fc0130e4d4493a18c1eb4190f83b611e"
   }
  }
 },
 "nbformat": 4,
 "nbformat_minor": 2
}
