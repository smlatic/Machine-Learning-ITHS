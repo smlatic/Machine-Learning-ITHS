{
 "cells": [
  {
   "attachments": {},
   "cell_type": "markdown",
   "metadata": {},
   "source": [
    "### Recap\n",
    "\n",
    "- Label ( y ) // Target variable\n",
    "- X~N(100,100) - mean, std\n",
    "- slope B1, intercept Bo    ( y = Bo + B1*X)\n",
    "- Resurser läs ISLR\n",
    "\n",
    "- minimera RSS ( residual sum of squares)\n",
    "- normalekvationen, ordinary least squares  - (OLS)\n",
    "- data leakage\n",
    "- \n"
   ]
  },
  {
   "attachments": {},
   "cell_type": "markdown",
   "metadata": {},
   "source": [
    "# Gradient Descent"
   ]
  },
  {
   "attachments": {},
   "cell_type": "markdown",
   "metadata": {},
   "source": [
    "![](2023-02-14-09-42-39.png)"
   ]
  },
  {
   "attachments": {},
   "cell_type": "markdown",
   "metadata": {},
   "source": [
    "![](2023-02-14-10-07-45.png)"
   ]
  },
  {
   "attachments": {},
   "cell_type": "markdown",
   "metadata": {},
   "source": [
    "![](2023-02-14-10-23-51.png)"
   ]
  },
  {
   "attachments": {},
   "cell_type": "markdown",
   "metadata": {},
   "source": [
    "![](2023-02-14-11-00-31.png)"
   ]
  },
  {
   "cell_type": "markdown",
   "metadata": {},
   "source": []
  }
 ],
 "metadata": {
  "kernelspec": {
   "display_name": "Python 3",
   "language": "python",
   "name": "python3"
  },
  "language_info": {
   "name": "python",
   "version": "3.9.13"
  },
  "orig_nbformat": 4,
  "vscode": {
   "interpreter": {
    "hash": "5049d1ec396f62584122cbc76ce6da9d7517d2d54b74d18a78749445f9d10580"
   }
  }
 },
 "nbformat": 4,
 "nbformat_minor": 2
}
