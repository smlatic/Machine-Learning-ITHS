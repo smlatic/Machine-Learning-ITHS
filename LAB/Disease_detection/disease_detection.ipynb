{
 "cells": [
  {
   "cell_type": "code",
   "execution_count": 67,
   "metadata": {},
   "outputs": [],
   "source": [
    "import pandas as pd\n",
    "import numpy as np\n",
    "import matplotlib.pyplot as plt\n",
    "import seaborn as sns\n",
    "pd.options.mode.chained_assignment = None\n"
   ]
  },
  {
   "cell_type": "code",
   "execution_count": 4,
   "metadata": {},
   "outputs": [
    {
     "data": {
      "text/html": [
       "<div>\n",
       "<style scoped>\n",
       "    .dataframe tbody tr th:only-of-type {\n",
       "        vertical-align: middle;\n",
       "    }\n",
       "\n",
       "    .dataframe tbody tr th {\n",
       "        vertical-align: top;\n",
       "    }\n",
       "\n",
       "    .dataframe thead th {\n",
       "        text-align: right;\n",
       "    }\n",
       "</style>\n",
       "<table border=\"1\" class=\"dataframe\">\n",
       "  <thead>\n",
       "    <tr style=\"text-align: right;\">\n",
       "      <th></th>\n",
       "      <th>id</th>\n",
       "      <th>age</th>\n",
       "      <th>gender</th>\n",
       "      <th>height</th>\n",
       "      <th>weight</th>\n",
       "      <th>ap_hi</th>\n",
       "      <th>ap_lo</th>\n",
       "      <th>cholesterol</th>\n",
       "      <th>gluc</th>\n",
       "      <th>smoke</th>\n",
       "      <th>alco</th>\n",
       "      <th>active</th>\n",
       "      <th>cardio</th>\n",
       "    </tr>\n",
       "  </thead>\n",
       "  <tbody>\n",
       "    <tr>\n",
       "      <th>0</th>\n",
       "      <td>0</td>\n",
       "      <td>18393</td>\n",
       "      <td>2</td>\n",
       "      <td>168</td>\n",
       "      <td>62.0</td>\n",
       "      <td>110</td>\n",
       "      <td>80</td>\n",
       "      <td>1</td>\n",
       "      <td>1</td>\n",
       "      <td>0</td>\n",
       "      <td>0</td>\n",
       "      <td>1</td>\n",
       "      <td>0</td>\n",
       "    </tr>\n",
       "    <tr>\n",
       "      <th>1</th>\n",
       "      <td>1</td>\n",
       "      <td>20228</td>\n",
       "      <td>1</td>\n",
       "      <td>156</td>\n",
       "      <td>85.0</td>\n",
       "      <td>140</td>\n",
       "      <td>90</td>\n",
       "      <td>3</td>\n",
       "      <td>1</td>\n",
       "      <td>0</td>\n",
       "      <td>0</td>\n",
       "      <td>1</td>\n",
       "      <td>1</td>\n",
       "    </tr>\n",
       "    <tr>\n",
       "      <th>2</th>\n",
       "      <td>2</td>\n",
       "      <td>18857</td>\n",
       "      <td>1</td>\n",
       "      <td>165</td>\n",
       "      <td>64.0</td>\n",
       "      <td>130</td>\n",
       "      <td>70</td>\n",
       "      <td>3</td>\n",
       "      <td>1</td>\n",
       "      <td>0</td>\n",
       "      <td>0</td>\n",
       "      <td>0</td>\n",
       "      <td>1</td>\n",
       "    </tr>\n",
       "    <tr>\n",
       "      <th>3</th>\n",
       "      <td>3</td>\n",
       "      <td>17623</td>\n",
       "      <td>2</td>\n",
       "      <td>169</td>\n",
       "      <td>82.0</td>\n",
       "      <td>150</td>\n",
       "      <td>100</td>\n",
       "      <td>1</td>\n",
       "      <td>1</td>\n",
       "      <td>0</td>\n",
       "      <td>0</td>\n",
       "      <td>1</td>\n",
       "      <td>1</td>\n",
       "    </tr>\n",
       "    <tr>\n",
       "      <th>4</th>\n",
       "      <td>4</td>\n",
       "      <td>17474</td>\n",
       "      <td>1</td>\n",
       "      <td>156</td>\n",
       "      <td>56.0</td>\n",
       "      <td>100</td>\n",
       "      <td>60</td>\n",
       "      <td>1</td>\n",
       "      <td>1</td>\n",
       "      <td>0</td>\n",
       "      <td>0</td>\n",
       "      <td>0</td>\n",
       "      <td>0</td>\n",
       "    </tr>\n",
       "  </tbody>\n",
       "</table>\n",
       "</div>"
      ],
      "text/plain": [
       "   id    age  gender  height  weight  ap_hi  ap_lo  cholesterol  gluc  smoke  \\\n",
       "0   0  18393       2     168    62.0    110     80            1     1      0   \n",
       "1   1  20228       1     156    85.0    140     90            3     1      0   \n",
       "2   2  18857       1     165    64.0    130     70            3     1      0   \n",
       "3   3  17623       2     169    82.0    150    100            1     1      0   \n",
       "4   4  17474       1     156    56.0    100     60            1     1      0   \n",
       "\n",
       "   alco  active  cardio  \n",
       "0     0       1       0  \n",
       "1     0       1       1  \n",
       "2     0       0       1  \n",
       "3     0       1       1  \n",
       "4     0       0       0  "
      ]
     },
     "execution_count": 4,
     "metadata": {},
     "output_type": "execute_result"
    }
   ],
   "source": [
    "\n",
    "# Read the dataset\n",
    "df = pd.read_csv(\"../Data_Lab/cardio_train.csv\", sep=';')\n",
    "df.head()"
   ]
  },
  {
   "cell_type": "code",
   "execution_count": 85,
   "metadata": {},
   "outputs": [
    {
     "data": {
      "text/html": [
       "<div>\n",
       "<style scoped>\n",
       "    .dataframe tbody tr th:only-of-type {\n",
       "        vertical-align: middle;\n",
       "    }\n",
       "\n",
       "    .dataframe tbody tr th {\n",
       "        vertical-align: top;\n",
       "    }\n",
       "\n",
       "    .dataframe thead th {\n",
       "        text-align: right;\n",
       "    }\n",
       "</style>\n",
       "<table border=\"1\" class=\"dataframe\">\n",
       "  <thead>\n",
       "    <tr style=\"text-align: right;\">\n",
       "      <th></th>\n",
       "      <th>id</th>\n",
       "      <th>age</th>\n",
       "      <th>gender</th>\n",
       "      <th>height</th>\n",
       "      <th>weight</th>\n",
       "      <th>ap_hi</th>\n",
       "      <th>ap_lo</th>\n",
       "      <th>cholesterol</th>\n",
       "      <th>gluc</th>\n",
       "      <th>smoke</th>\n",
       "      <th>alco</th>\n",
       "      <th>active</th>\n",
       "      <th>cardio</th>\n",
       "      <th>age_years</th>\n",
       "      <th>BMI</th>\n",
       "    </tr>\n",
       "  </thead>\n",
       "  <tbody>\n",
       "    <tr>\n",
       "      <th>count</th>\n",
       "      <td>70000.000000</td>\n",
       "      <td>70000.000000</td>\n",
       "      <td>70000.000000</td>\n",
       "      <td>70000.000000</td>\n",
       "      <td>70000.000000</td>\n",
       "      <td>70000.000000</td>\n",
       "      <td>70000.000000</td>\n",
       "      <td>70000.000000</td>\n",
       "      <td>70000.000000</td>\n",
       "      <td>70000.000000</td>\n",
       "      <td>70000.000000</td>\n",
       "      <td>70000.000000</td>\n",
       "      <td>70000.000000</td>\n",
       "      <td>70000.000000</td>\n",
       "      <td>70000.000000</td>\n",
       "    </tr>\n",
       "    <tr>\n",
       "      <th>mean</th>\n",
       "      <td>49972.419900</td>\n",
       "      <td>19468.865814</td>\n",
       "      <td>1.349571</td>\n",
       "      <td>164.359229</td>\n",
       "      <td>74.205690</td>\n",
       "      <td>128.817286</td>\n",
       "      <td>96.630414</td>\n",
       "      <td>1.366871</td>\n",
       "      <td>1.226457</td>\n",
       "      <td>0.088129</td>\n",
       "      <td>0.053771</td>\n",
       "      <td>0.803729</td>\n",
       "      <td>0.499700</td>\n",
       "      <td>53.339358</td>\n",
       "      <td>27.556513</td>\n",
       "    </tr>\n",
       "    <tr>\n",
       "      <th>std</th>\n",
       "      <td>28851.302323</td>\n",
       "      <td>2467.251667</td>\n",
       "      <td>0.476838</td>\n",
       "      <td>8.210126</td>\n",
       "      <td>14.395757</td>\n",
       "      <td>154.011419</td>\n",
       "      <td>188.472530</td>\n",
       "      <td>0.680250</td>\n",
       "      <td>0.572270</td>\n",
       "      <td>0.283484</td>\n",
       "      <td>0.225568</td>\n",
       "      <td>0.397179</td>\n",
       "      <td>0.500003</td>\n",
       "      <td>6.759594</td>\n",
       "      <td>6.091511</td>\n",
       "    </tr>\n",
       "    <tr>\n",
       "      <th>min</th>\n",
       "      <td>0.000000</td>\n",
       "      <td>10798.000000</td>\n",
       "      <td>1.000000</td>\n",
       "      <td>55.000000</td>\n",
       "      <td>10.000000</td>\n",
       "      <td>-150.000000</td>\n",
       "      <td>-70.000000</td>\n",
       "      <td>1.000000</td>\n",
       "      <td>1.000000</td>\n",
       "      <td>0.000000</td>\n",
       "      <td>0.000000</td>\n",
       "      <td>0.000000</td>\n",
       "      <td>0.000000</td>\n",
       "      <td>29.583562</td>\n",
       "      <td>3.471784</td>\n",
       "    </tr>\n",
       "    <tr>\n",
       "      <th>25%</th>\n",
       "      <td>25006.750000</td>\n",
       "      <td>17664.000000</td>\n",
       "      <td>1.000000</td>\n",
       "      <td>159.000000</td>\n",
       "      <td>65.000000</td>\n",
       "      <td>120.000000</td>\n",
       "      <td>80.000000</td>\n",
       "      <td>1.000000</td>\n",
       "      <td>1.000000</td>\n",
       "      <td>0.000000</td>\n",
       "      <td>0.000000</td>\n",
       "      <td>1.000000</td>\n",
       "      <td>0.000000</td>\n",
       "      <td>48.394521</td>\n",
       "      <td>23.875115</td>\n",
       "    </tr>\n",
       "    <tr>\n",
       "      <th>50%</th>\n",
       "      <td>50001.500000</td>\n",
       "      <td>19703.000000</td>\n",
       "      <td>1.000000</td>\n",
       "      <td>165.000000</td>\n",
       "      <td>72.000000</td>\n",
       "      <td>120.000000</td>\n",
       "      <td>80.000000</td>\n",
       "      <td>1.000000</td>\n",
       "      <td>1.000000</td>\n",
       "      <td>0.000000</td>\n",
       "      <td>0.000000</td>\n",
       "      <td>1.000000</td>\n",
       "      <td>0.000000</td>\n",
       "      <td>53.980822</td>\n",
       "      <td>26.374068</td>\n",
       "    </tr>\n",
       "    <tr>\n",
       "      <th>75%</th>\n",
       "      <td>74889.250000</td>\n",
       "      <td>21327.000000</td>\n",
       "      <td>2.000000</td>\n",
       "      <td>170.000000</td>\n",
       "      <td>82.000000</td>\n",
       "      <td>140.000000</td>\n",
       "      <td>90.000000</td>\n",
       "      <td>2.000000</td>\n",
       "      <td>1.000000</td>\n",
       "      <td>0.000000</td>\n",
       "      <td>0.000000</td>\n",
       "      <td>1.000000</td>\n",
       "      <td>1.000000</td>\n",
       "      <td>58.430137</td>\n",
       "      <td>30.222222</td>\n",
       "    </tr>\n",
       "    <tr>\n",
       "      <th>max</th>\n",
       "      <td>99999.000000</td>\n",
       "      <td>23713.000000</td>\n",
       "      <td>2.000000</td>\n",
       "      <td>250.000000</td>\n",
       "      <td>200.000000</td>\n",
       "      <td>16020.000000</td>\n",
       "      <td>11000.000000</td>\n",
       "      <td>3.000000</td>\n",
       "      <td>3.000000</td>\n",
       "      <td>1.000000</td>\n",
       "      <td>1.000000</td>\n",
       "      <td>1.000000</td>\n",
       "      <td>1.000000</td>\n",
       "      <td>64.967123</td>\n",
       "      <td>298.666667</td>\n",
       "    </tr>\n",
       "  </tbody>\n",
       "</table>\n",
       "</div>"
      ],
      "text/plain": [
       "                 id           age        gender        height        weight  \\\n",
       "count  70000.000000  70000.000000  70000.000000  70000.000000  70000.000000   \n",
       "mean   49972.419900  19468.865814      1.349571    164.359229     74.205690   \n",
       "std    28851.302323   2467.251667      0.476838      8.210126     14.395757   \n",
       "min        0.000000  10798.000000      1.000000     55.000000     10.000000   \n",
       "25%    25006.750000  17664.000000      1.000000    159.000000     65.000000   \n",
       "50%    50001.500000  19703.000000      1.000000    165.000000     72.000000   \n",
       "75%    74889.250000  21327.000000      2.000000    170.000000     82.000000   \n",
       "max    99999.000000  23713.000000      2.000000    250.000000    200.000000   \n",
       "\n",
       "              ap_hi         ap_lo   cholesterol          gluc         smoke  \\\n",
       "count  70000.000000  70000.000000  70000.000000  70000.000000  70000.000000   \n",
       "mean     128.817286     96.630414      1.366871      1.226457      0.088129   \n",
       "std      154.011419    188.472530      0.680250      0.572270      0.283484   \n",
       "min     -150.000000    -70.000000      1.000000      1.000000      0.000000   \n",
       "25%      120.000000     80.000000      1.000000      1.000000      0.000000   \n",
       "50%      120.000000     80.000000      1.000000      1.000000      0.000000   \n",
       "75%      140.000000     90.000000      2.000000      1.000000      0.000000   \n",
       "max    16020.000000  11000.000000      3.000000      3.000000      1.000000   \n",
       "\n",
       "               alco        active        cardio     age_years           BMI  \n",
       "count  70000.000000  70000.000000  70000.000000  70000.000000  70000.000000  \n",
       "mean       0.053771      0.803729      0.499700     53.339358     27.556513  \n",
       "std        0.225568      0.397179      0.500003      6.759594      6.091511  \n",
       "min        0.000000      0.000000      0.000000     29.583562      3.471784  \n",
       "25%        0.000000      1.000000      0.000000     48.394521     23.875115  \n",
       "50%        0.000000      1.000000      0.000000     53.980822     26.374068  \n",
       "75%        0.000000      1.000000      1.000000     58.430137     30.222222  \n",
       "max        1.000000      1.000000      1.000000     64.967123    298.666667  "
      ]
     },
     "execution_count": 85,
     "metadata": {},
     "output_type": "execute_result"
    }
   ],
   "source": [
    "df.describe()"
   ]
  },
  {
   "attachments": {},
   "cell_type": "markdown",
   "metadata": {},
   "source": [
    "## EDA"
   ]
  },
  {
   "attachments": {},
   "cell_type": "markdown",
   "metadata": {},
   "source": [
    "### Number of cases with cardiovascular dissease (Positive / Negative)"
   ]
  },
  {
   "cell_type": "code",
   "execution_count": 5,
   "metadata": {},
   "outputs": [
    {
     "name": "stdout",
     "output_type": "stream",
     "text": [
      "Positive cases: 34979\n",
      "Negative cases: 35021\n"
     ]
    }
   ],
   "source": [
    "# Number of positive and negative cases\n",
    "\n",
    "positive_cases = df[df['cardio'] == 1].shape[0]\n",
    "negative_cases = df[df['cardio'] == 0].shape[0] \n",
    "# shape[0] to count the number of rows\n",
    "\n",
    "print(f\"Positive cases: {positive_cases}\")\n",
    "print(f\"Negative cases: {negative_cases}\")"
   ]
  },
  {
   "cell_type": "markdown",
   "metadata": {},
   "source": [
    "### Cholesterol Levels"
   ]
  },
  {
   "cell_type": "code",
   "execution_count": 6,
   "metadata": {},
   "outputs": [
    {
     "data": {
      "image/png": "[encoded data removed]",
      "text/plain": [
       "<Figure size 640x480 with 1 Axes>"
      ]
     },
     "metadata": {},
     "output_type": "display_data"
    }
   ],
   "source": [
    "# Percentage of each cholesterol level\n",
    "cholesterol_counts = df['cholesterol'].value_counts(normalize=True) * 100\n",
    "\n",
    "# Pie chart\n",
    "labels = ['Normal', 'Above Normal', 'Well Above Normal']\n",
    "colors = ['#66b3ff', '#ff9999', '#99ff99']\n",
    "plt.pie(cholesterol_counts, labels=labels, colors=colors, autopct='%1.1f%%')\n",
    "plt.title('Cholesterol Levels')\n",
    "plt.axis('equal')  # Equal aspect ratio ensures the pie chart is circular\n",
    "\n",
    "# Display the chart\n",
    "plt.show()"
   ]
  },
  {
   "attachments": {},
   "cell_type": "markdown",
   "metadata": {},
   "source": [
    "### Age Distribution\n",
    "\n",
    "- I will convert from days to years."
   ]
  },
  {
   "cell_type": "code",
   "execution_count": 8,
   "metadata": {},
   "outputs": [
    {
     "data": {
      "image/png": "[encoded data removed]",
      "text/plain": [
       "<Figure size 640x480 with 1 Axes>"
      ]
     },
     "metadata": {},
     "output_type": "display_data"
    }
   ],
   "source": [
    "# Converts age from days to years\n",
    "df['age_years'] = df['age'] / 365\n",
    "\n",
    "# Histogram\n",
    "plt.hist(df['age_years'], bins=20, edgecolor='black')\n",
    "plt.title('Age Distribution')\n",
    "plt.xlabel('Age (years)')\n",
    "plt.ylabel('Frequency')\n",
    "\n",
    "# Display the chart\n",
    "plt.show()"
   ]
  },
  {
   "attachments": {},
   "cell_type": "markdown",
   "metadata": {},
   "source": [
    "### Percentage of smokers"
   ]
  },
  {
   "cell_type": "code",
   "execution_count": 9,
   "metadata": {},
   "outputs": [
    {
     "name": "stdout",
     "output_type": "stream",
     "text": [
      "Percentage of smokers: 8.81%\n"
     ]
    }
   ],
   "source": [
    "# Calculate the percentage of smokers\n",
    "smoker_counts = df['smoke'].value_counts(normalize=True) * 100\n",
    "percentage_smokers = smoker_counts[1]\n",
    "\n",
    "print(f\"Percentage of smokers: {percentage_smokers:.2f}%\")"
   ]
  },
  {
   "attachments": {},
   "cell_type": "markdown",
   "metadata": {},
   "source": [
    "### Weight and Height Distribution\n",
    "\n",
    "- Here we notice some outliers."
   ]
  },
  {
   "cell_type": "code",
   "execution_count": 33,
   "metadata": {},
   "outputs": [
    {
     "data": {
      "image/png": "[encoded data removed]",
      "text/plain": [
       "<Figure size 2500x500 with 2 Axes>"
      ]
     },
     "metadata": {},
     "output_type": "display_data"
    }
   ],
   "source": [
    "# Subplots side by side\n",
    "fig, (ax1, ax2) = plt.subplots(1, 2, figsize=(25, 5))\n",
    "\n",
    "\n",
    "# -----------------------------------------\n",
    "# Weight distribution Plot\n",
    "ax1.hist(df['weight'], bins=30, edgecolor='black')\n",
    "ax1.set_title('Weight Distribution')\n",
    "ax1.set_xlabel('Weight (kg)')\n",
    "ax1.set_ylabel('Frequency')\n",
    "\n",
    "# Vertical lines and annotations for weight min and max\n",
    "weight_min = df['weight'].min()\n",
    "weight_max = df['weight'].max()\n",
    "ax1.axvline(weight_min, color='red', linestyle='--')\n",
    "ax1.axvline(weight_max, color='red', linestyle='--')\n",
    "ax1.annotate(f'Min: {weight_min} kg', xy=(weight_min, 0), xytext=(weight_min-30, 300), color='red', arrowprops=dict(arrowstyle='->', color='red'))\n",
    "ax1.annotate(f'Max: {weight_max} kg', xy=(weight_max, 0), xytext=(weight_max+5, 300), color='red', arrowprops=dict(arrowstyle='->', color='red'))\n",
    "\n",
    "\n",
    "\n",
    "# -----------------------------------------\n",
    "# Height distribution Plot\n",
    "ax2.hist(df['height'], bins=30, edgecolor='black')\n",
    "ax2.set_title('Height Distribution')\n",
    "ax2.set_xlabel('Height (cm)')\n",
    "ax2.set_ylabel('Frequency')\n",
    "\n",
    "\n",
    "# Vertical lines and annotations for height min and max\n",
    "height_min = df['height'].min()\n",
    "height_max = df['height'].max()\n",
    "ax2.axvline(height_min, color='red', linestyle='--')\n",
    "ax2.axvline(height_max, color='red', linestyle='--')\n",
    "ax2.annotate(f'Min: {height_min} cm', xy=(height_min, 0), xytext=(height_min+10, 500), color='red', arrowprops=dict(arrowstyle='->', color='red'))\n",
    "ax2.annotate(f'Max: {height_max} cm', xy=(height_max, 0), xytext=(height_max+10, 500), color='red', arrowprops=dict(arrowstyle='->', color='red'))\n",
    "\n",
    "\n",
    "plt.show()"
   ]
  },
  {
   "attachments": {},
   "cell_type": "markdown",
   "metadata": {},
   "source": [
    "## Feature Engineering BMI\n",
    "- A feature for Body Mass Index\n",
    "- Remove outliers\n",
    "- Create categorical BMI-feature with: normal range, overweight, obese (class 1), obese (class 2) and obese (class 3)"
   ]
  },
  {
   "attachments": {},
   "cell_type": "markdown",
   "metadata": {},
   "source": [
    "I will create a new column for body mass index called BMI and vizualize the outliers"
   ]
  },
  {
   "cell_type": "code",
   "execution_count": 35,
   "metadata": {},
   "outputs": [
    {
     "data": {
      "image/png": "[encoded data removed]",
      "text/plain": [
       "<Figure size 1000x500 with 1 Axes>"
      ]
     },
     "metadata": {},
     "output_type": "display_data"
    }
   ],
   "source": [
    "# Calculate BMI\n",
    "df['BMI'] = df['weight'] / (df['height'] / 100)**2\n",
    "\n",
    "# Create a box plot\n",
    "plt.figure(figsize=(10, 5))\n",
    "plt.boxplot(df['BMI'], vert=False)\n",
    "plt.title('BMI Distribution')\n",
    "plt.xlabel('BMI')\n",
    "\n",
    "# Display the chart\n",
    "plt.show()"
   ]
  },
  {
   "cell_type": "code",
   "execution_count": 75,
   "metadata": {},
   "outputs": [
    {
     "name": "stdout",
     "output_type": "stream",
     "text": [
      "Number of body mass index (BMI) outliers: 1995\n"
     ]
    }
   ],
   "source": [
    "# function to calculate outliers using quantiles\n",
    "\n",
    "def calculate_outliers(column):\n",
    "    Q1 = column.quantile(0.25)\n",
    "    Q3 = column.quantile(0.75)\n",
    "    IQR = Q3 - Q1\n",
    "    \n",
    "    lower_bound = Q1 - 1.5 * IQR\n",
    "    upper_bound = Q3 + 1.5 * IQR\n",
    "    \n",
    "    outliers = column[(column < lower_bound) | (column > upper_bound)]\n",
    "    \n",
    "    return outliers\n",
    "\n",
    "# Calculate the outliers for systolic BMI \n",
    "bmi_outliers = calculate_outliers(df['BMI'])\n",
    "\n",
    "\n",
    "\n",
    "# Print the number of outliers for each feature\n",
    "print(f\"Number of body mass index (BMI) outliers: {len(bmi_outliers)}\")\n"
   ]
  },
  {
   "attachments": {},
   "cell_type": "markdown",
   "metadata": {},
   "source": [
    "We have some extreme outliers. According to wikipedia, these are the ranges of interest:\n",
    "\n",
    "- Underweight (Severe thinness)\t< 16.0\n",
    "- Underweight (Moderate thinness)\t16.0 – 16.9\t\n",
    "- Underweight (Mild thinness)\t17.0 – 18.4\t\n",
    "- Normal range\t18.5 – 24.9\t\n",
    "- Overweight (Pre-obese)\t25.0 – 29.9\t\n",
    "- Obese (Class I)\t30.0 – 34.9\t\n",
    "- Obese (Class II)\t35.0 – 39.9\t\n",
    "- Obese (Class III)\t≥ 40.0\t"
   ]
  },
  {
   "cell_type": "code",
   "execution_count": 47,
   "metadata": {},
   "outputs": [
    {
     "name": "stdout",
     "output_type": "stream",
     "text": [
      "Number of rows with BMI < 18.5: 650\n",
      "Number of rows with BMI >= 40: 1886\n",
      "Total: 70000\n"
     ]
    }
   ],
   "source": [
    "# Amount with BMI >= 40\n",
    "above_40_count = (df['BMI'] >= 40).sum()\n",
    "\n",
    "# Count the number of rows with BMI < 18.5\n",
    "below_18_5_count = (df['BMI'] < 18.5).sum()\n",
    "\n",
    "total_bmi = df['BMI'].count()\n",
    "\n",
    "print(f\"Number of rows with BMI < 18.5: {below_18_5_count}\")\n",
    "print(f\"Number of rows with BMI >= 40: {above_40_count}\")\n",
    "print(f\"Total: {total_bmi}\")"
   ]
  },
  {
   "cell_type": "code",
   "execution_count": 48,
   "metadata": {},
   "outputs": [
    {
     "name": "stdout",
     "output_type": "stream",
     "text": [
      "Percentage of rows with BMI < 18.5: 0.93%\n",
      "Percentage of rows with BMI >= 40: 2.69%\n"
     ]
    }
   ],
   "source": [
    "total_rows = 70000\n",
    "\n",
    "# Calculate the percentages\n",
    "below_18_5_percentage = (below_18_5_count / total_rows) * 100\n",
    "above_40_percentage = (above_40_count / total_rows) * 100\n",
    "\n",
    "print(f\"Percentage of rows with BMI < 18.5: {below_18_5_percentage:.2f}%\")\n",
    "print(f\"Percentage of rows with BMI >= 40: {above_40_percentage:.2f}%\")"
   ]
  },
  {
   "attachments": {},
   "cell_type": "markdown",
   "metadata": {},
   "source": [
    "The percentage below the normal range and above obese class 3 is below 4% so I will discard those values. It is a small amount and should be ok to remove."
   ]
  },
  {
   "cell_type": "code",
   "execution_count": 52,
   "metadata": {},
   "outputs": [
    {
     "name": "stdout",
     "output_type": "stream",
     "text": [
      "Original dataset size: 70000\n",
      "Filtered dataset size: 67478\n",
      "Removed 2522 rows due to BMI outliers\n"
     ]
    }
   ],
   "source": [
    "# Filter the dataset based on BMI ranges of interest\n",
    "filtered_data = df[\n",
    "    (df['BMI'] >= 18.5) &\n",
    "    (df['BMI'] <= 40.0)\n",
    "]\n",
    "\n",
    "# Calculate the number of rows removed\n",
    "removed_rows = len(df) - len(filtered_data)\n",
    "\n",
    "print(f\"Original dataset size: {len(df)}\")\n",
    "print(f\"Filtered dataset size: {len(filtered_data)}\")\n",
    "print(f\"Removed {removed_rows} rows due to BMI outliers\")"
   ]
  },
  {
   "attachments": {},
   "cell_type": "markdown",
   "metadata": {},
   "source": [
    "Double check to see if it is still close to 50% ( Positive / Negative ) disease. "
   ]
  },
  {
   "cell_type": "code",
   "execution_count": 56,
   "metadata": {},
   "outputs": [
    {
     "name": "stdout",
     "output_type": "stream",
     "text": [
      "Positive cases filtered data: 33508\n",
      "Negative cases filtered data: 33970\n"
     ]
    }
   ],
   "source": [
    "# Number of positive and negative cases\n",
    "\n",
    "positive_cases_filtered = filtered_data[filtered_data['cardio'] == 1].shape[0]\n",
    "negative_cases_filtered = filtered_data[filtered_data['cardio'] == 0].shape[0] \n",
    "\n",
    "print(f\"Positive cases filtered data: {positive_cases_filtered}\")\n",
    "print(f\"Negative cases filtered data: {negative_cases_filtered}\")"
   ]
  },
  {
   "attachments": {},
   "cell_type": "markdown",
   "metadata": {},
   "source": [
    "### Create categorical features for:\n",
    "- Normal range\n",
    "- Overweight\n",
    "- Obese (class I) \n",
    "- Obese (class II)\n",
    "- Obese (class III)"
   ]
  },
  {
   "cell_type": "code",
   "execution_count": 68,
   "metadata": {},
   "outputs": [
    {
     "data": {
      "text/html": [
       "<div>\n",
       "<style scoped>\n",
       "    .dataframe tbody tr th:only-of-type {\n",
       "        vertical-align: middle;\n",
       "    }\n",
       "\n",
       "    .dataframe tbody tr th {\n",
       "        vertical-align: top;\n",
       "    }\n",
       "\n",
       "    .dataframe thead th {\n",
       "        text-align: right;\n",
       "    }\n",
       "</style>\n",
       "<table border=\"1\" class=\"dataframe\">\n",
       "  <thead>\n",
       "    <tr style=\"text-align: right;\">\n",
       "      <th></th>\n",
       "      <th>id</th>\n",
       "      <th>age</th>\n",
       "      <th>gender</th>\n",
       "      <th>height</th>\n",
       "      <th>weight</th>\n",
       "      <th>ap_hi</th>\n",
       "      <th>ap_lo</th>\n",
       "      <th>cholesterol</th>\n",
       "      <th>gluc</th>\n",
       "      <th>smoke</th>\n",
       "      <th>alco</th>\n",
       "      <th>active</th>\n",
       "      <th>cardio</th>\n",
       "      <th>age_years</th>\n",
       "      <th>BMI</th>\n",
       "      <th>BMI_category</th>\n",
       "    </tr>\n",
       "  </thead>\n",
       "  <tbody>\n",
       "    <tr>\n",
       "      <th>0</th>\n",
       "      <td>0</td>\n",
       "      <td>18393</td>\n",
       "      <td>2</td>\n",
       "      <td>168</td>\n",
       "      <td>62.0</td>\n",
       "      <td>110</td>\n",
       "      <td>80</td>\n",
       "      <td>1</td>\n",
       "      <td>1</td>\n",
       "      <td>0</td>\n",
       "      <td>0</td>\n",
       "      <td>1</td>\n",
       "      <td>0</td>\n",
       "      <td>50.391781</td>\n",
       "      <td>21.967120</td>\n",
       "      <td>Normal range</td>\n",
       "    </tr>\n",
       "    <tr>\n",
       "      <th>1</th>\n",
       "      <td>1</td>\n",
       "      <td>20228</td>\n",
       "      <td>1</td>\n",
       "      <td>156</td>\n",
       "      <td>85.0</td>\n",
       "      <td>140</td>\n",
       "      <td>90</td>\n",
       "      <td>3</td>\n",
       "      <td>1</td>\n",
       "      <td>0</td>\n",
       "      <td>0</td>\n",
       "      <td>1</td>\n",
       "      <td>1</td>\n",
       "      <td>55.419178</td>\n",
       "      <td>34.927679</td>\n",
       "      <td>Obese (Class II)</td>\n",
       "    </tr>\n",
       "    <tr>\n",
       "      <th>2</th>\n",
       "      <td>2</td>\n",
       "      <td>18857</td>\n",
       "      <td>1</td>\n",
       "      <td>165</td>\n",
       "      <td>64.0</td>\n",
       "      <td>130</td>\n",
       "      <td>70</td>\n",
       "      <td>3</td>\n",
       "      <td>1</td>\n",
       "      <td>0</td>\n",
       "      <td>0</td>\n",
       "      <td>0</td>\n",
       "      <td>1</td>\n",
       "      <td>51.663014</td>\n",
       "      <td>23.507805</td>\n",
       "      <td>Normal range</td>\n",
       "    </tr>\n",
       "  </tbody>\n",
       "</table>\n",
       "</div>"
      ],
      "text/plain": [
       "   id    age  gender  height  weight  ap_hi  ap_lo  cholesterol  gluc  smoke  \\\n",
       "0   0  18393       2     168    62.0    110     80            1     1      0   \n",
       "1   1  20228       1     156    85.0    140     90            3     1      0   \n",
       "2   2  18857       1     165    64.0    130     70            3     1      0   \n",
       "\n",
       "   alco  active  cardio  age_years        BMI      BMI_category  \n",
       "0     0       1       0  50.391781  21.967120      Normal range  \n",
       "1     0       1       1  55.419178  34.927679  Obese (Class II)  \n",
       "2     0       0       1  51.663014  23.507805      Normal range  "
      ]
     },
     "execution_count": 68,
     "metadata": {},
     "output_type": "execute_result"
    }
   ],
   "source": [
    "# Categorical feature  by using pd.cut. Segment and sort data values into bins\n",
    "# https://pandas.pydata.org/docs/reference/api/pandas.cut.html\n",
    "\n",
    "# Define the categories and their corresponding BMI ranges\n",
    "bmi_categories = ['Normal range', 'Overweight (Pre-obese)', 'Obese (Class I)', 'Obese (Class II)', 'Obese (Class III)']\n",
    "bmi_ranges = [18.5, 24.9, 29.9, 34.9, 39.9, filtered_data['BMI'].max()]\n",
    "\n",
    "# Categorical BMI feature using pd.cut()\n",
    "filtered_data['BMI_category'] = pd.cut(filtered_data['BMI'], bins=bmi_ranges, labels=bmi_categories, include_lowest=True)\n",
    "\n",
    "# Check\n",
    "filtered_data.head(3)"
   ]
  },
  {
   "attachments": {},
   "cell_type": "markdown",
   "metadata": {},
   "source": [
    "## Feature Engineering Blood Pressure\n",
    "- A feature for Blood Pressure\n",
    "- Remove outliers\n",
    "- Create categorical Blood Pressure feature with: healthy, elevated, hypertension(I), hypertension(II) and hypertensive crisis."
   ]
  },
  {
   "cell_type": "code",
   "execution_count": 95,
   "metadata": {},
   "outputs": [
    {
     "data": {
      "image/png": "[encoded data removed]",
      "text/plain": [
       "<Figure size 2000x500 with 2 Axes>"
      ]
     },
     "metadata": {},
     "output_type": "display_data"
    }
   ],
   "source": [
    "\n",
    "# Create a figure and axis\n",
    "fig, ax = plt.subplots(1, 2, figsize=(20, 5))\n",
    "\n",
    "# Create a box plot for systolic blood pressure (ap_hi)\n",
    "ax[0].boxplot(filtered_data['ap_hi'], vert=False)\n",
    "ax[0].set_title('Systolic Blood Pressure Distribution')\n",
    "ax[0].set_xlabel('Systolic Blood Pressure (ap_hi)')\n",
    "\n",
    "# Create a box plot for diastolic blood pressure (ap_lo)\n",
    "ax[1].boxplot(filtered_data['ap_lo'], vert=False)\n",
    "ax[1].set_title('Diastolic Blood Pressure Distribution')\n",
    "ax[1].set_xlabel('Diastolic Blood Pressure (ap_lo)')\n",
    "\n",
    "# Display the charts\n",
    "plt.show()"
   ]
  },
  {
   "attachments": {},
   "cell_type": "markdown",
   "metadata": {},
   "source": [
    "Some extreme outliers."
   ]
  },
  {
   "cell_type": "code",
   "execution_count": 96,
   "metadata": {},
   "outputs": [
    {
     "name": "stdout",
     "output_type": "stream",
     "text": [
      "Number of systolic blood pressure (ap_hi) outliers: 1317\n",
      "Systolic blood pressure (ap_hi) outlier range: < 90.0 or > 170.0\n",
      "Number of diastolic blood pressure (ap_lo) outliers: 4352\n",
      "Diastolic blood pressure (ap_lo) outlier range: < 65.0 or > 105.0\n"
     ]
    }
   ],
   "source": [
    "def calculate_outliers_and_bounds(column):\n",
    "    Q1 = column.quantile(0.25)\n",
    "    Q3 = column.quantile(0.75)\n",
    "    IQR = Q3 - Q1\n",
    "    \n",
    "    lower_bound = Q1 - 1.5 * IQR\n",
    "    upper_bound = Q3 + 1.5 * IQR\n",
    "    \n",
    "    outliers = column[(column < lower_bound) | (column > upper_bound)]\n",
    "    \n",
    "    return outliers, lower_bound, upper_bound\n",
    "\n",
    "# Calculate the outliers and bounds for systolic blood pressure (ap_hi)\n",
    "systolic_outliers, systolic_lower_bound, systolic_upper_bound = calculate_outliers_and_bounds(filtered_data['ap_hi'])\n",
    "\n",
    "# Calculate the outliers and bounds for diastolic blood pressure (ap_lo)\n",
    "diastolic_outliers, diastolic_lower_bound, diastolic_upper_bound = calculate_outliers_and_bounds(filtered_data['ap_lo'])\n",
    "\n",
    "# Print the number of outliers and the outlier ranges for each feature\n",
    "print(f\"Number of systolic blood pressure (ap_hi) outliers: {len(systolic_outliers)}\")\n",
    "print(f\"Systolic blood pressure (ap_hi) outlier range: < {systolic_lower_bound} or > {systolic_upper_bound}\")\n",
    "print(f\"Number of diastolic blood pressure (ap_lo) outliers: {len(diastolic_outliers)}\")\n",
    "print(f\"Diastolic blood pressure (ap_lo) outlier range: < {diastolic_lower_bound} or > {diastolic_upper_bound}\")"
   ]
  },
  {
   "attachments": {},
   "cell_type": "markdown",
   "metadata": {},
   "source": [
    "Using quantiles removes to much data, also it removes to much valuable data. Like with BMI, I will set a specific range"
   ]
  },
  {
   "cell_type": "code",
   "execution_count": null,
   "metadata": {},
   "outputs": [],
   "source": []
  },
  {
   "cell_type": "code",
   "execution_count": 97,
   "metadata": {},
   "outputs": [
    {
     "name": "stdout",
     "output_type": "stream",
     "text": [
      "Number of rows with systolic blood pressure above 180: 330\n",
      "Number of rows with diastolic blood pressure over 120: 981\n"
     ]
    }
   ],
   "source": [
    "# Count the number of rows with systolic blood pressure above 180\n",
    "systolic_above_180 = len(filtered_data[filtered_data['ap_hi']  > 180])\n",
    "\n",
    "# Count the number of rows with diastolic blood pressure over 120\n",
    "diastolic_above_120 = len(filtered_data[filtered_data['ap_lo'] > 120])\n",
    "\n",
    "# Print the counts\n",
    "print(f\"Number of rows with systolic blood pressure above 180: {systolic_above_180}\")\n",
    "print(f\"Number of rows with diastolic blood pressure over 120: {diastolic_above_120}\")\n"
   ]
  },
  {
   "attachments": {},
   "cell_type": "markdown",
   "metadata": {},
   "source": [
    "That is a lot more acceptable. I will increase the systolic to 250 and diastolic to 150 for good measure to acount for all categories."
   ]
  },
  {
   "cell_type": "code",
   "execution_count": 99,
   "metadata": {},
   "outputs": [
    {
     "name": "stdout",
     "output_type": "stream",
     "text": [
      "Filtered data size (before blood pressure filtering): 67478\n",
      "Filtered data size (after blood pressure filtering): 66525\n"
     ]
    }
   ],
   "source": [
    "# Filter the dataset to keep only rows with systolic blood pressure between 0 and 250\n",
    "filtered_systolic = (filtered_data['ap_hi'] >= 0) & (filtered_data['ap_hi'] <= 250)\n",
    "\n",
    "# Filter the dataset to keep only rows with diastolic blood pressure between 0 and 150\n",
    "filtered_diastolic = (filtered_data['ap_lo'] >= 0) & (filtered_data['ap_lo'] <= 150)\n",
    "\n",
    "# Create a new dataset with the desired blood pressure ranges\n",
    "filtered_bp_data = filtered_data[filtered_systolic & filtered_diastolic]\n",
    "\n",
    "# Display the sizes of the filtered_data and filtered_bp_data datasets\n",
    "print(f\"Filtered data size (before blood pressure filtering): {len(filtered_data)}\")\n",
    "print(f\"Filtered data size (after blood pressure filtering): {len(filtered_bp_data)}\")\n"
   ]
  },
  {
   "cell_type": "code",
   "execution_count": 100,
   "metadata": {},
   "outputs": [
    {
     "data": {
      "text/html": [
       "<div>\n",
       "<style scoped>\n",
       "    .dataframe tbody tr th:only-of-type {\n",
       "        vertical-align: middle;\n",
       "    }\n",
       "\n",
       "    .dataframe tbody tr th {\n",
       "        vertical-align: top;\n",
       "    }\n",
       "\n",
       "    .dataframe thead th {\n",
       "        text-align: right;\n",
       "    }\n",
       "</style>\n",
       "<table border=\"1\" class=\"dataframe\">\n",
       "  <thead>\n",
       "    <tr style=\"text-align: right;\">\n",
       "      <th></th>\n",
       "      <th>id</th>\n",
       "      <th>age</th>\n",
       "      <th>gender</th>\n",
       "      <th>height</th>\n",
       "      <th>weight</th>\n",
       "      <th>ap_hi</th>\n",
       "      <th>ap_lo</th>\n",
       "      <th>cholesterol</th>\n",
       "      <th>gluc</th>\n",
       "      <th>smoke</th>\n",
       "      <th>alco</th>\n",
       "      <th>active</th>\n",
       "      <th>cardio</th>\n",
       "      <th>age_years</th>\n",
       "      <th>BMI</th>\n",
       "      <th>BMI_category</th>\n",
       "      <th>bp_category</th>\n",
       "    </tr>\n",
       "  </thead>\n",
       "  <tbody>\n",
       "    <tr>\n",
       "      <th>0</th>\n",
       "      <td>0</td>\n",
       "      <td>18393</td>\n",
       "      <td>2</td>\n",
       "      <td>168</td>\n",
       "      <td>62.0</td>\n",
       "      <td>110</td>\n",
       "      <td>80</td>\n",
       "      <td>1</td>\n",
       "      <td>1</td>\n",
       "      <td>0</td>\n",
       "      <td>0</td>\n",
       "      <td>1</td>\n",
       "      <td>0</td>\n",
       "      <td>50.391781</td>\n",
       "      <td>21.967120</td>\n",
       "      <td>Normal range</td>\n",
       "      <td>Stage 1 hypertension</td>\n",
       "    </tr>\n",
       "    <tr>\n",
       "      <th>1</th>\n",
       "      <td>1</td>\n",
       "      <td>20228</td>\n",
       "      <td>1</td>\n",
       "      <td>156</td>\n",
       "      <td>85.0</td>\n",
       "      <td>140</td>\n",
       "      <td>90</td>\n",
       "      <td>3</td>\n",
       "      <td>1</td>\n",
       "      <td>0</td>\n",
       "      <td>0</td>\n",
       "      <td>1</td>\n",
       "      <td>1</td>\n",
       "      <td>55.419178</td>\n",
       "      <td>34.927679</td>\n",
       "      <td>Obese (Class II)</td>\n",
       "      <td>Stage 2 hypertension</td>\n",
       "    </tr>\n",
       "    <tr>\n",
       "      <th>2</th>\n",
       "      <td>2</td>\n",
       "      <td>18857</td>\n",
       "      <td>1</td>\n",
       "      <td>165</td>\n",
       "      <td>64.0</td>\n",
       "      <td>130</td>\n",
       "      <td>70</td>\n",
       "      <td>3</td>\n",
       "      <td>1</td>\n",
       "      <td>0</td>\n",
       "      <td>0</td>\n",
       "      <td>0</td>\n",
       "      <td>1</td>\n",
       "      <td>51.663014</td>\n",
       "      <td>23.507805</td>\n",
       "      <td>Normal range</td>\n",
       "      <td>Stage 1 hypertension</td>\n",
       "    </tr>\n",
       "    <tr>\n",
       "      <th>3</th>\n",
       "      <td>3</td>\n",
       "      <td>17623</td>\n",
       "      <td>2</td>\n",
       "      <td>169</td>\n",
       "      <td>82.0</td>\n",
       "      <td>150</td>\n",
       "      <td>100</td>\n",
       "      <td>1</td>\n",
       "      <td>1</td>\n",
       "      <td>0</td>\n",
       "      <td>0</td>\n",
       "      <td>1</td>\n",
       "      <td>1</td>\n",
       "      <td>48.282192</td>\n",
       "      <td>28.710479</td>\n",
       "      <td>Overweight (Pre-obese)</td>\n",
       "      <td>Stage 2 hypertension</td>\n",
       "    </tr>\n",
       "    <tr>\n",
       "      <th>4</th>\n",
       "      <td>4</td>\n",
       "      <td>17474</td>\n",
       "      <td>1</td>\n",
       "      <td>156</td>\n",
       "      <td>56.0</td>\n",
       "      <td>100</td>\n",
       "      <td>60</td>\n",
       "      <td>1</td>\n",
       "      <td>1</td>\n",
       "      <td>0</td>\n",
       "      <td>0</td>\n",
       "      <td>0</td>\n",
       "      <td>0</td>\n",
       "      <td>47.873973</td>\n",
       "      <td>23.011177</td>\n",
       "      <td>Normal range</td>\n",
       "      <td>Healthy</td>\n",
       "    </tr>\n",
       "  </tbody>\n",
       "</table>\n",
       "</div>"
      ],
      "text/plain": [
       "   id    age  gender  height  weight  ap_hi  ap_lo  cholesterol  gluc  smoke  \\\n",
       "0   0  18393       2     168    62.0    110     80            1     1      0   \n",
       "1   1  20228       1     156    85.0    140     90            3     1      0   \n",
       "2   2  18857       1     165    64.0    130     70            3     1      0   \n",
       "3   3  17623       2     169    82.0    150    100            1     1      0   \n",
       "4   4  17474       1     156    56.0    100     60            1     1      0   \n",
       "\n",
       "   alco  active  cardio  age_years        BMI            BMI_category  \\\n",
       "0     0       1       0  50.391781  21.967120            Normal range   \n",
       "1     0       1       1  55.419178  34.927679        Obese (Class II)   \n",
       "2     0       0       1  51.663014  23.507805            Normal range   \n",
       "3     0       1       1  48.282192  28.710479  Overweight (Pre-obese)   \n",
       "4     0       0       0  47.873973  23.011177            Normal range   \n",
       "\n",
       "            bp_category  \n",
       "0  Stage 1 hypertension  \n",
       "1  Stage 2 hypertension  \n",
       "2  Stage 1 hypertension  \n",
       "3  Stage 2 hypertension  \n",
       "4               Healthy  "
      ]
     },
     "execution_count": 100,
     "metadata": {},
     "output_type": "execute_result"
    }
   ],
   "source": [
    "\n",
    "\n",
    "def blood_pressure_category(row):\n",
    "    systolic = row['ap_hi']\n",
    "    diastolic = row['ap_lo']\n",
    "\n",
    "    if systolic < 120 and diastolic < 80:\n",
    "        return 'Healthy'\n",
    "    elif 120 <= systolic <= 129 and diastolic < 80:\n",
    "        return 'Elevated'\n",
    "    elif 130 <= systolic <= 139 or 80 <= diastolic <= 89:\n",
    "        return 'Stage 1 hypertension'\n",
    "    elif systolic >= 140 or diastolic >= 90:\n",
    "        return 'Stage 2 hypertension'\n",
    "    elif systolic > 180 or diastolic > 120:\n",
    "        return 'Hypertension crisis'\n",
    "    else:\n",
    "        return 'Undefined'\n",
    "\n",
    "# Apply the blood_pressure_category function to each row in the filtered dataset\n",
    "filtered_bp_data['bp_category'] = filtered_bp_data.apply(blood_pressure_category, axis=1)\n",
    "\n",
    "# Display the first few rows of the dataset with the new 'bp_category' feature\n",
    "filtered_bp_data.head()\n"
   ]
  },
  {
   "cell_type": "markdown",
   "metadata": {},
   "source": [
    "## Visualizations"
   ]
  },
  {
   "cell_type": "code",
   "execution_count": null,
   "metadata": {},
   "outputs": [],
   "source": []
  },
  {
   "cell_type": "code",
   "execution_count": null,
   "metadata": {},
   "outputs": [],
   "source": []
  },
  {
   "cell_type": "code",
   "execution_count": null,
   "metadata": {},
   "outputs": [],
   "source": []
  },
  {
   "cell_type": "code",
   "execution_count": null,
   "metadata": {},
   "outputs": [],
   "source": []
  }
 ],
 "metadata": {
  "kernelspec": {
   "display_name": "Python 3",
   "language": "python",
   "name": "python3"
  },
  "language_info": {
   "codemirror_mode": {
    "name": "ipython",
    "version": 3
   },
   "file_extension": ".py",
   "mimetype": "text/x-python",
   "name": "python",
   "nbconvert_exporter": "python",
   "pygments_lexer": "ipython3",
   "version": "3.7.6"
  },
  "orig_nbformat": 4,
  "vscode": {
   "interpreter": {
    "hash": "444798624b93c43a074b7dc0c8de043a376cdfac3f16cb7a47430233f846de1b"
   }
  }
 },
 "nbformat": 4,
 "nbformat_minor": 2
}
