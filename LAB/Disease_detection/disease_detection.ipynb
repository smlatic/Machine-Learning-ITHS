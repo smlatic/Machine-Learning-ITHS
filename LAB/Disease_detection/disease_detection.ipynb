{
 "cells": [
  {
   "cell_type": "code",
   "execution_count": 67,
   "metadata": {},
   "outputs": [],
   "source": [
    "import pandas as pd\n",
    "import numpy as np\n",
    "import matplotlib.pyplot as plt\n",
    "import seaborn as sns\n",
    "pd.options.mode.chained_assignment = None\n"
   ]
  },
  {
   "cell_type": "code",
   "execution_count": 4,
   "metadata": {},
   "outputs": [
    {
     "data": {
      "text/html": [
       "<div>\n",
       "<style scoped>\n",
       "    .dataframe tbody tr th:only-of-type {\n",
       "        vertical-align: middle;\n",
       "    }\n",
       "\n",
       "    .dataframe tbody tr th {\n",
       "        vertical-align: top;\n",
       "    }\n",
       "\n",
       "    .dataframe thead th {\n",
       "        text-align: right;\n",
       "    }\n",
       "</style>\n",
       "<table border=\"1\" class=\"dataframe\">\n",
       "  <thead>\n",
       "    <tr style=\"text-align: right;\">\n",
       "      <th></th>\n",
       "      <th>id</th>\n",
       "      <th>age</th>\n",
       "      <th>gender</th>\n",
       "      <th>height</th>\n",
       "      <th>weight</th>\n",
       "      <th>ap_hi</th>\n",
       "      <th>ap_lo</th>\n",
       "      <th>cholesterol</th>\n",
       "      <th>gluc</th>\n",
       "      <th>smoke</th>\n",
       "      <th>alco</th>\n",
       "      <th>active</th>\n",
       "      <th>cardio</th>\n",
       "    </tr>\n",
       "  </thead>\n",
       "  <tbody>\n",
       "    <tr>\n",
       "      <th>0</th>\n",
       "      <td>0</td>\n",
       "      <td>18393</td>\n",
       "      <td>2</td>\n",
       "      <td>168</td>\n",
       "      <td>62.0</td>\n",
       "      <td>110</td>\n",
       "      <td>80</td>\n",
       "      <td>1</td>\n",
       "      <td>1</td>\n",
       "      <td>0</td>\n",
       "      <td>0</td>\n",
       "      <td>1</td>\n",
       "      <td>0</td>\n",
       "    </tr>\n",
       "    <tr>\n",
       "      <th>1</th>\n",
       "      <td>1</td>\n",
       "      <td>20228</td>\n",
       "      <td>1</td>\n",
       "      <td>156</td>\n",
       "      <td>85.0</td>\n",
       "      <td>140</td>\n",
       "      <td>90</td>\n",
       "      <td>3</td>\n",
       "      <td>1</td>\n",
       "      <td>0</td>\n",
       "      <td>0</td>\n",
       "      <td>1</td>\n",
       "      <td>1</td>\n",
       "    </tr>\n",
       "    <tr>\n",
       "      <th>2</th>\n",
       "      <td>2</td>\n",
       "      <td>18857</td>\n",
       "      <td>1</td>\n",
       "      <td>165</td>\n",
       "      <td>64.0</td>\n",
       "      <td>130</td>\n",
       "      <td>70</td>\n",
       "      <td>3</td>\n",
       "      <td>1</td>\n",
       "      <td>0</td>\n",
       "      <td>0</td>\n",
       "      <td>0</td>\n",
       "      <td>1</td>\n",
       "    </tr>\n",
       "    <tr>\n",
       "      <th>3</th>\n",
       "      <td>3</td>\n",
       "      <td>17623</td>\n",
       "      <td>2</td>\n",
       "      <td>169</td>\n",
       "      <td>82.0</td>\n",
       "      <td>150</td>\n",
       "      <td>100</td>\n",
       "      <td>1</td>\n",
       "      <td>1</td>\n",
       "      <td>0</td>\n",
       "      <td>0</td>\n",
       "      <td>1</td>\n",
       "      <td>1</td>\n",
       "    </tr>\n",
       "    <tr>\n",
       "      <th>4</th>\n",
       "      <td>4</td>\n",
       "      <td>17474</td>\n",
       "      <td>1</td>\n",
       "      <td>156</td>\n",
       "      <td>56.0</td>\n",
       "      <td>100</td>\n",
       "      <td>60</td>\n",
       "      <td>1</td>\n",
       "      <td>1</td>\n",
       "      <td>0</td>\n",
       "      <td>0</td>\n",
       "      <td>0</td>\n",
       "      <td>0</td>\n",
       "    </tr>\n",
       "  </tbody>\n",
       "</table>\n",
       "</div>"
      ],
      "text/plain": [
       "   id    age  gender  height  weight  ap_hi  ap_lo  cholesterol  gluc  smoke  \\\n",
       "0   0  18393       2     168    62.0    110     80            1     1      0   \n",
       "1   1  20228       1     156    85.0    140     90            3     1      0   \n",
       "2   2  18857       1     165    64.0    130     70            3     1      0   \n",
       "3   3  17623       2     169    82.0    150    100            1     1      0   \n",
       "4   4  17474       1     156    56.0    100     60            1     1      0   \n",
       "\n",
       "   alco  active  cardio  \n",
       "0     0       1       0  \n",
       "1     0       1       1  \n",
       "2     0       0       1  \n",
       "3     0       1       1  \n",
       "4     0       0       0  "
      ]
     },
     "execution_count": 4,
     "metadata": {},
     "output_type": "execute_result"
    }
   ],
   "source": [
    "\n",
    "# Read the dataset\n",
    "df = pd.read_csv(\"../Data_Lab/cardio_train.csv\", sep=';')\n",
    "df.head()"
   ]
  },
  {
   "attachments": {},
   "cell_type": "markdown",
   "metadata": {},
   "source": [
    "## EDA"
   ]
  },
  {
   "attachments": {},
   "cell_type": "markdown",
   "metadata": {},
   "source": [
    "### Number of cases with cardiovascular dissease (Positive / Negative)"
   ]
  },
  {
   "cell_type": "code",
   "execution_count": 5,
   "metadata": {},
   "outputs": [
    {
     "name": "stdout",
     "output_type": "stream",
     "text": [
      "Positive cases: 34979\n",
      "Negative cases: 35021\n"
     ]
    }
   ],
   "source": [
    "# Number of positive and negative cases\n",
    "\n",
    "positive_cases = df[df['cardio'] == 1].shape[0]\n",
    "negative_cases = df[df['cardio'] == 0].shape[0] \n",
    "# shape[0] to count the number of rows\n",
    "\n",
    "print(f\"Positive cases: {positive_cases}\")\n",
    "print(f\"Negative cases: {negative_cases}\")"
   ]
  },
  {
   "cell_type": "markdown",
   "metadata": {},
   "source": [
    "### Cholesterol Levels"
   ]
  },
  {
   "cell_type": "code",
   "execution_count": 6,
   "metadata": {},
   "outputs": [
    {
     "data": {
      "image/png": "[encoded data removed]",
      "text/plain": [
       "<Figure size 640x480 with 1 Axes>"
      ]
     },
     "metadata": {},
     "output_type": "display_data"
    }
   ],
   "source": [
    "# Percentage of each cholesterol level\n",
    "cholesterol_counts = df['cholesterol'].value_counts(normalize=True) * 100\n",
    "\n",
    "# Pie chart\n",
    "labels = ['Normal', 'Above Normal', 'Well Above Normal']\n",
    "colors = ['#66b3ff', '#ff9999', '#99ff99']\n",
    "plt.pie(cholesterol_counts, labels=labels, colors=colors, autopct='%1.1f%%')\n",
    "plt.title('Cholesterol Levels')\n",
    "plt.axis('equal')  # Equal aspect ratio ensures the pie chart is circular\n",
    "\n",
    "# Display the chart\n",
    "plt.show()"
   ]
  },
  {
   "attachments": {},
   "cell_type": "markdown",
   "metadata": {},
   "source": [
    "### Age Distribution\n",
    "\n",
    "- I will convert from days to years."
   ]
  },
  {
   "cell_type": "code",
   "execution_count": 8,
   "metadata": {},
   "outputs": [
    {
     "data": {
      "image/png": "[encoded data removed]",
      "text/plain": [
       "<Figure size 640x480 with 1 Axes>"
      ]
     },
     "metadata": {},
     "output_type": "display_data"
    }
   ],
   "source": [
    "# Converts age from days to years\n",
    "df['age_years'] = df['age'] / 365\n",
    "\n",
    "# Histogram\n",
    "plt.hist(df['age_years'], bins=20, edgecolor='black')\n",
    "plt.title('Age Distribution')\n",
    "plt.xlabel('Age (years)')\n",
    "plt.ylabel('Frequency')\n",
    "\n",
    "# Display the chart\n",
    "plt.show()"
   ]
  },
  {
   "attachments": {},
   "cell_type": "markdown",
   "metadata": {},
   "source": [
    "### Percentage of smokers"
   ]
  },
  {
   "cell_type": "code",
   "execution_count": 9,
   "metadata": {},
   "outputs": [
    {
     "name": "stdout",
     "output_type": "stream",
     "text": [
      "Percentage of smokers: 8.81%\n"
     ]
    }
   ],
   "source": [
    "# Calculate the percentage of smokers\n",
    "smoker_counts = df['smoke'].value_counts(normalize=True) * 100\n",
    "percentage_smokers = smoker_counts[1]\n",
    "\n",
    "print(f\"Percentage of smokers: {percentage_smokers:.2f}%\")"
   ]
  },
  {
   "attachments": {},
   "cell_type": "markdown",
   "metadata": {},
   "source": [
    "### Weight and Height Distribution\n",
    "\n",
    "- Here we notice some outliers."
   ]
  },
  {
   "cell_type": "code",
   "execution_count": 33,
   "metadata": {},
   "outputs": [
    {
     "data": {
      "image/png": "[encoded data removed]",
      "text/plain": [
       "<Figure size 2500x500 with 2 Axes>"
      ]
     },
     "metadata": {},
     "output_type": "display_data"
    }
   ],
   "source": [
    "# Subplots side by side\n",
    "fig, (ax1, ax2) = plt.subplots(1, 2, figsize=(25, 5))\n",
    "\n",
    "\n",
    "# -----------------------------------------\n",
    "# Weight distribution Plot\n",
    "ax1.hist(df['weight'], bins=30, edgecolor='black')\n",
    "ax1.set_title('Weight Distribution')\n",
    "ax1.set_xlabel('Weight (kg)')\n",
    "ax1.set_ylabel('Frequency')\n",
    "\n",
    "# Vertical lines and annotations for weight min and max\n",
    "weight_min = df['weight'].min()\n",
    "weight_max = df['weight'].max()\n",
    "ax1.axvline(weight_min, color='red', linestyle='--')\n",
    "ax1.axvline(weight_max, color='red', linestyle='--')\n",
    "ax1.annotate(f'Min: {weight_min} kg', xy=(weight_min, 0), xytext=(weight_min-30, 300), color='red', arrowprops=dict(arrowstyle='->', color='red'))\n",
    "ax1.annotate(f'Max: {weight_max} kg', xy=(weight_max, 0), xytext=(weight_max+5, 300), color='red', arrowprops=dict(arrowstyle='->', color='red'))\n",
    "\n",
    "\n",
    "\n",
    "# -----------------------------------------\n",
    "# Height distribution Plot\n",
    "ax2.hist(df['height'], bins=30, edgecolor='black')\n",
    "ax2.set_title('Height Distribution')\n",
    "ax2.set_xlabel('Height (cm)')\n",
    "ax2.set_ylabel('Frequency')\n",
    "\n",
    "\n",
    "# Vertical lines and annotations for height min and max\n",
    "height_min = df['height'].min()\n",
    "height_max = df['height'].max()\n",
    "ax2.axvline(height_min, color='red', linestyle='--')\n",
    "ax2.axvline(height_max, color='red', linestyle='--')\n",
    "ax2.annotate(f'Min: {height_min} cm', xy=(height_min, 0), xytext=(height_min+10, 500), color='red', arrowprops=dict(arrowstyle='->', color='red'))\n",
    "ax2.annotate(f'Max: {height_max} cm', xy=(height_max, 0), xytext=(height_max+10, 500), color='red', arrowprops=dict(arrowstyle='->', color='red'))\n",
    "\n",
    "\n",
    "plt.show()"
   ]
  },
  {
   "attachments": {},
   "cell_type": "markdown",
   "metadata": {},
   "source": [
    "## Feature Engineering\n",
    "- A feature for Body Mass Index\n",
    "- Remove outliers\n",
    "- Create categorical BMI-feature with: normal range, overweight, obese (class 1), obese (class 2) and obese (class 3)"
   ]
  },
  {
   "attachments": {},
   "cell_type": "markdown",
   "metadata": {},
   "source": [
    "I will create a new column for body mass index called BMI and vizualize the outliers"
   ]
  },
  {
   "cell_type": "code",
   "execution_count": 35,
   "metadata": {},
   "outputs": [
    {
     "data": {
      "image/png": "[encoded data removed]",
      "text/plain": [
       "<Figure size 1000x500 with 1 Axes>"
      ]
     },
     "metadata": {},
     "output_type": "display_data"
    }
   ],
   "source": [
    "# Calculate BMI\n",
    "df['BMI'] = df['weight'] / (df['height'] / 100)**2\n",
    "\n",
    "# Create a box plot\n",
    "plt.figure(figsize=(10, 5))\n",
    "plt.boxplot(df['BMI'], vert=False)\n",
    "plt.title('BMI Distribution')\n",
    "plt.xlabel('BMI')\n",
    "\n",
    "# Display the chart\n",
    "plt.show()"
   ]
  },
  {
   "attachments": {},
   "cell_type": "markdown",
   "metadata": {},
   "source": [
    "We have some extreme outliers. According to wikipedia, these are the ranges of interest:\n",
    "\n",
    "- Underweight (Severe thinness)\t< 16.0\n",
    "- Underweight (Moderate thinness)\t16.0 – 16.9\t\n",
    "- Underweight (Mild thinness)\t17.0 – 18.4\t\n",
    "- Normal range\t18.5 – 24.9\t\n",
    "- Overweight (Pre-obese)\t25.0 – 29.9\t\n",
    "- Obese (Class I)\t30.0 – 34.9\t\n",
    "- Obese (Class II)\t35.0 – 39.9\t\n",
    "- Obese (Class III)\t≥ 40.0\t"
   ]
  },
  {
   "cell_type": "code",
   "execution_count": 47,
   "metadata": {},
   "outputs": [
    {
     "name": "stdout",
     "output_type": "stream",
     "text": [
      "Number of rows with BMI < 18.5: 650\n",
      "Number of rows with BMI >= 40: 1886\n",
      "Total: 70000\n"
     ]
    }
   ],
   "source": [
    "# Amount with BMI >= 40\n",
    "above_40_count = (df['BMI'] >= 40).sum()\n",
    "\n",
    "# Count the number of rows with BMI < 18.5\n",
    "below_18_5_count = (df['BMI'] < 18.5).sum()\n",
    "\n",
    "total_bmi = df['BMI'].count()\n",
    "\n",
    "print(f\"Number of rows with BMI < 18.5: {below_18_5_count}\")\n",
    "print(f\"Number of rows with BMI >= 40: {above_40_count}\")\n",
    "print(f\"Total: {total_bmi}\")"
   ]
  },
  {
   "cell_type": "code",
   "execution_count": 48,
   "metadata": {},
   "outputs": [
    {
     "name": "stdout",
     "output_type": "stream",
     "text": [
      "Percentage of rows with BMI < 18.5: 0.93%\n",
      "Percentage of rows with BMI >= 40: 2.69%\n"
     ]
    }
   ],
   "source": [
    "total_rows = 70000\n",
    "\n",
    "# Calculate the percentages\n",
    "below_18_5_percentage = (below_18_5_count / total_rows) * 100\n",
    "above_40_percentage = (above_40_count / total_rows) * 100\n",
    "\n",
    "print(f\"Percentage of rows with BMI < 18.5: {below_18_5_percentage:.2f}%\")\n",
    "print(f\"Percentage of rows with BMI >= 40: {above_40_percentage:.2f}%\")"
   ]
  },
  {
   "attachments": {},
   "cell_type": "markdown",
   "metadata": {},
   "source": [
    "The percentage below the normal range and above obese class 3 is below 4% so I will discard those values. It is a small amount and should be ok to remove."
   ]
  },
  {
   "cell_type": "code",
   "execution_count": 52,
   "metadata": {},
   "outputs": [
    {
     "name": "stdout",
     "output_type": "stream",
     "text": [
      "Original dataset size: 70000\n",
      "Filtered dataset size: 67478\n",
      "Removed 2522 rows due to BMI outliers\n"
     ]
    }
   ],
   "source": [
    "# Filter the dataset based on BMI ranges of interest\n",
    "filtered_data = df[\n",
    "    (df['BMI'] >= 18.5) &\n",
    "    (df['BMI'] <= 40.0)\n",
    "]\n",
    "\n",
    "# Calculate the number of rows removed\n",
    "removed_rows = len(df) - len(filtered_data)\n",
    "\n",
    "print(f\"Original dataset size: {len(df)}\")\n",
    "print(f\"Filtered dataset size: {len(filtered_data)}\")\n",
    "print(f\"Removed {removed_rows} rows due to BMI outliers\")"
   ]
  },
  {
   "attachments": {},
   "cell_type": "markdown",
   "metadata": {},
   "source": [
    "Double check to see if it is still close to 50% ( Positive / Negative ) disease. "
   ]
  },
  {
   "cell_type": "code",
   "execution_count": 56,
   "metadata": {},
   "outputs": [
    {
     "name": "stdout",
     "output_type": "stream",
     "text": [
      "Positive cases filtered data: 33508\n",
      "Negative cases filtered data: 33970\n"
     ]
    }
   ],
   "source": [
    "# Number of positive and negative cases\n",
    "\n",
    "positive_cases_filtered = filtered_data[filtered_data['cardio'] == 1].shape[0]\n",
    "negative_cases_filtered = filtered_data[filtered_data['cardio'] == 0].shape[0] \n",
    "\n",
    "print(f\"Positive cases filtered data: {positive_cases_filtered}\")\n",
    "print(f\"Negative cases filtered data: {negative_cases_filtered}\")"
   ]
  },
  {
   "cell_type": "markdown",
   "metadata": {},
   "source": []
  },
  {
   "cell_type": "code",
   "execution_count": 68,
   "metadata": {},
   "outputs": [
    {
     "data": {
      "text/html": [
       "<div>\n",
       "<style scoped>\n",
       "    .dataframe tbody tr th:only-of-type {\n",
       "        vertical-align: middle;\n",
       "    }\n",
       "\n",
       "    .dataframe tbody tr th {\n",
       "        vertical-align: top;\n",
       "    }\n",
       "\n",
       "    .dataframe thead th {\n",
       "        text-align: right;\n",
       "    }\n",
       "</style>\n",
       "<table border=\"1\" class=\"dataframe\">\n",
       "  <thead>\n",
       "    <tr style=\"text-align: right;\">\n",
       "      <th></th>\n",
       "      <th>id</th>\n",
       "      <th>age</th>\n",
       "      <th>gender</th>\n",
       "      <th>height</th>\n",
       "      <th>weight</th>\n",
       "      <th>ap_hi</th>\n",
       "      <th>ap_lo</th>\n",
       "      <th>cholesterol</th>\n",
       "      <th>gluc</th>\n",
       "      <th>smoke</th>\n",
       "      <th>alco</th>\n",
       "      <th>active</th>\n",
       "      <th>cardio</th>\n",
       "      <th>age_years</th>\n",
       "      <th>BMI</th>\n",
       "      <th>BMI_category</th>\n",
       "    </tr>\n",
       "  </thead>\n",
       "  <tbody>\n",
       "    <tr>\n",
       "      <th>0</th>\n",
       "      <td>0</td>\n",
       "      <td>18393</td>\n",
       "      <td>2</td>\n",
       "      <td>168</td>\n",
       "      <td>62.0</td>\n",
       "      <td>110</td>\n",
       "      <td>80</td>\n",
       "      <td>1</td>\n",
       "      <td>1</td>\n",
       "      <td>0</td>\n",
       "      <td>0</td>\n",
       "      <td>1</td>\n",
       "      <td>0</td>\n",
       "      <td>50.391781</td>\n",
       "      <td>21.967120</td>\n",
       "      <td>Normal range</td>\n",
       "    </tr>\n",
       "    <tr>\n",
       "      <th>1</th>\n",
       "      <td>1</td>\n",
       "      <td>20228</td>\n",
       "      <td>1</td>\n",
       "      <td>156</td>\n",
       "      <td>85.0</td>\n",
       "      <td>140</td>\n",
       "      <td>90</td>\n",
       "      <td>3</td>\n",
       "      <td>1</td>\n",
       "      <td>0</td>\n",
       "      <td>0</td>\n",
       "      <td>1</td>\n",
       "      <td>1</td>\n",
       "      <td>55.419178</td>\n",
       "      <td>34.927679</td>\n",
       "      <td>Obese (Class II)</td>\n",
       "    </tr>\n",
       "    <tr>\n",
       "      <th>2</th>\n",
       "      <td>2</td>\n",
       "      <td>18857</td>\n",
       "      <td>1</td>\n",
       "      <td>165</td>\n",
       "      <td>64.0</td>\n",
       "      <td>130</td>\n",
       "      <td>70</td>\n",
       "      <td>3</td>\n",
       "      <td>1</td>\n",
       "      <td>0</td>\n",
       "      <td>0</td>\n",
       "      <td>0</td>\n",
       "      <td>1</td>\n",
       "      <td>51.663014</td>\n",
       "      <td>23.507805</td>\n",
       "      <td>Normal range</td>\n",
       "    </tr>\n",
       "  </tbody>\n",
       "</table>\n",
       "</div>"
      ],
      "text/plain": [
       "   id    age  gender  height  weight  ap_hi  ap_lo  cholesterol  gluc  smoke  \\\n",
       "0   0  18393       2     168    62.0    110     80            1     1      0   \n",
       "1   1  20228       1     156    85.0    140     90            3     1      0   \n",
       "2   2  18857       1     165    64.0    130     70            3     1      0   \n",
       "\n",
       "   alco  active  cardio  age_years        BMI      BMI_category  \n",
       "0     0       1       0  50.391781  21.967120      Normal range  \n",
       "1     0       1       1  55.419178  34.927679  Obese (Class II)  \n",
       "2     0       0       1  51.663014  23.507805      Normal range  "
      ]
     },
     "execution_count": 68,
     "metadata": {},
     "output_type": "execute_result"
    }
   ],
   "source": [
    "# Categorical feature  by using pd.cut. Segment and sort data values into bins\n",
    "# https://pandas.pydata.org/docs/reference/api/pandas.cut.html\n",
    "\n",
    "# Define the categories and their corresponding BMI ranges\n",
    "bmi_categories = ['Normal range', 'Overweight (Pre-obese)', 'Obese (Class I)', 'Obese (Class II)', 'Obese (Class III)']\n",
    "bmi_ranges = [18.5, 24.9, 29.9, 34.9, 39.9, filtered_data['BMI'].max()]\n",
    "\n",
    "# Categorical BMI feature using pd.cut()\n",
    "filtered_data['BMI_category'] = pd.cut(filtered_data['BMI'], bins=bmi_ranges, labels=bmi_categories, include_lowest=True)\n",
    "\n",
    "# Check\n",
    "filtered_data.head(3)"
   ]
  },
  {
   "cell_type": "code",
   "execution_count": null,
   "metadata": {},
   "outputs": [],
   "source": []
  },
  {
   "cell_type": "code",
   "execution_count": null,
   "metadata": {},
   "outputs": [],
   "source": []
  }
 ],
 "metadata": {
  "kernelspec": {
   "display_name": "Python 3",
   "language": "python",
   "name": "python3"
  },
  "language_info": {
   "codemirror_mode": {
    "name": "ipython",
    "version": 3
   },
   "file_extension": ".py",
   "mimetype": "text/x-python",
   "name": "python",
   "nbconvert_exporter": "python",
   "pygments_lexer": "ipython3",
   "version": "3.7.6"
  },
  "orig_nbformat": 4,
  "vscode": {
   "interpreter": {
    "hash": "444798624b93c43a074b7dc0c8de043a376cdfac3f16cb7a47430233f846de1b"
   }
  }
 },
 "nbformat": 4,
 "nbformat_minor": 2
}
