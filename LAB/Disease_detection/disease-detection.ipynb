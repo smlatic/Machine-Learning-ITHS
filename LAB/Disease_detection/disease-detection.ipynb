{
 "cells": [
  {
   "attachments": {},
   "cell_type": "markdown",
   "metadata": {},
   "source": [
    "1.Import libraries and load the dataset:"
   ]
  },
  {
   "cell_type": "code",
   "execution_count": null,
   "metadata": {},
   "outputs": [],
   "source": [
    "import pandas as pd\n",
    "import numpy as np\n",
    "import matplotlib.pyplot as plt\n",
    "import seaborn as sns\n",
    "\n",
    "from sklearn.model_selection import train_test_split\n",
    "from sklearn.preprocessing import StandardScaler\n",
    "from sklearn.metrics import accuracy_score, confusion_matrix, classification_report\n",
    "\n",
    "# Load the dataset\n",
    "data = pd.read_csv(\"cardiovascular_disease.csv\")\n"
   ]
  },
  {
   "attachments": {},
   "cell_type": "markdown",
   "metadata": {},
   "source": [
    "2.Perform EDA:"
   ]
  },
  {
   "cell_type": "code",
   "execution_count": null,
   "metadata": {},
   "outputs": [],
   "source": [
    "# Display the first few rows of the dataset\n",
    "print(data.head())\n",
    "\n",
    "# Check for missing values\n",
    "print(data.isnull().sum())\n",
    "\n",
    "# Display summary statistics\n",
    "print(data.describe())\n"
   ]
  },
  {
   "attachments": {},
   "cell_type": "markdown",
   "metadata": {},
   "source": [
    "Visualizations"
   ]
  },
  {
   "cell_type": "code",
   "execution_count": null,
   "metadata": {},
   "outputs": [],
   "source": [
    "\n",
    "# Positive and negative heart disease count\n",
    "sns.countplot(x=\"cardio\", data=data)\n",
    "plt.xlabel(\"Heart Disease (0 = Negative, 1 = Positive)\")\n",
    "plt.ylabel(\"Count\")\n",
    "plt.title(\"Positive and Negative Heart Disease Cases\")\n",
    "plt.show()\n",
    "\n",
    "# Pie chart for cholesterol levels (normal, above normal, and very high)\n",
    "cholesterol_counts = data[\"cholesterol\"].value_counts()\n",
    "plt.pie(cholesterol_counts, labels=[\"Normal\", \"Above Normal\", \"Very High\"], autopct=\"%1.1f%%\")\n",
    "plt.title(\"Cholesterol Levels Distribution\")\n",
    "plt.show()\n",
    "\n",
    "# Age distribution\n",
    "sns.histplot(data[\"age\"], bins=30, kde=True)\n",
    "plt.xlabel(\"Age\")\n",
    "plt.ylabel(\"Frequency\")\n",
    "plt.title(\"Age Distribution\")\n",
    "plt.show()\n",
    "\n",
    "# Number of smokers\n",
    "sns.countplot(x=\"smoke\", data=data)\n",
    "plt.xlabel(\"Smoking (0 = Non-smoker, 1 = Smoker)\")\n",
    "plt.ylabel(\"Count\")\n",
    "plt.title(\"Smoker Distribution\")\n",
    "plt.show()\n",
    "\n",
    "# Weight distribution\n",
    "sns.histplot(data[\"weight\"], bins=30, kde=True)\n",
    "plt.xlabel(\"Weight (kg)\")\n",
    "plt.ylabel(\"Frequency\")\n",
    "plt.title(\"Weight Distribution\")\n",
    "plt.show()\n",
    "\n",
    "# Height distribution\n",
    "sns.histplot(data[\"height\"], bins=30, kde=True)\n",
    "plt.xlabel(\"Height (cm)\")\n",
    "plt.ylabel(\"Frequency\")\n",
    "plt.title(\"Height Distribution\")\n",
    "plt.show()\n",
    "\n",
    "# Men and women percentage with heart disease\n",
    "gender_disease = data[data[\"cardio\"] == 1][\"gender\"].value_counts(normalize=True) * 100\n",
    "plt.pie(gender_disease, labels=[\"Men\", \"Women\"], autopct=\"%1.1f%%\")\n",
    "plt.title(\"Men and Women Percentage with Heart Disease\")\n",
    "plt.show()\n",
    "\n",
    "# Check for correlations between variables\n",
    "plt.figure(figsize=(10, 10))\n",
    "sns.heatmap(data.corr(), annot=True, cmap=\"coolwarm\")\n",
    "plt.show()\n",
    "\n"
   ]
  },
  {
   "attachments": {},
   "cell_type": "markdown",
   "metadata": {},
   "source": [
    "3.Data preprocessing:"
   ]
  },
  {
   "cell_type": "code",
   "execution_count": null,
   "metadata": {},
   "outputs": [],
   "source": [
    "# Split the dataset into features (X) and target variable (y)\n",
    "X = data.drop(\"cardio\", axis=1)\n",
    "y = data[\"cardio\"]\n",
    "\n",
    "# Split the dataset into training and testing sets\n",
    "X_train, X_test, y_train, y_test = train_test_split(X, y, test_size=0.2, random_state=42)\n",
    "\n",
    "# Scale the features\n",
    "scaler = StandardScaler()\n",
    "X_train = scaler.fit_transform(X_train)\n",
    "X_test = scaler.transform(X_test)\n"
   ]
  },
  {
   "attachments": {},
   "cell_type": "markdown",
   "metadata": {},
   "source": [
    "4.Create and train a machine learning model:"
   ]
  },
  {
   "cell_type": "code",
   "execution_count": null,
   "metadata": {},
   "outputs": [],
   "source": [
    "from sklearn.ensemble import RandomForestClassifier\n",
    "\n",
    "# Initialize the RandomForestClassifier\n",
    "model = RandomForestClassifier(n_estimators=100, random_state=42)\n",
    "\n",
    "# Train the model\n",
    "model.fit(X_train, y_train)\n"
   ]
  },
  {
   "attachments": {},
   "cell_type": "markdown",
   "metadata": {},
   "source": [
    "5.Evaluate the model:"
   ]
  },
  {
   "cell_type": "code",
   "execution_count": null,
   "metadata": {},
   "outputs": [],
   "source": [
    "# Make predictions on the test set\n",
    "y_pred = model.predict(X_test)\n",
    "\n",
    "# Calculate the accuracy\n",
    "accuracy = accuracy_score(y_test, y_pred)\n",
    "print(f\"Accuracy: {accuracy}\")\n",
    "\n",
    "# Display the confusion matrix\n",
    "cm = confusion_matrix(y_test, y_pred)\n",
    "print(f\"Confusion Matrix:\\n{cm}\")\n",
    "\n",
    "# Display the classification report\n",
    "report = classification_report(y_test, y_pred)\n",
    "print(f\"Classification Report:\\n{report}\")\n"
   ]
  }
 ],
 "metadata": {
  "kernelspec": {
   "display_name": "Python 3",
   "language": "python",
   "name": "python3"
  },
  "language_info": {
   "codemirror_mode": {
    "name": "ipython",
    "version": 3
   },
   "file_extension": ".py",
   "mimetype": "text/x-python",
   "name": "python",
   "nbconvert_exporter": "python",
   "pygments_lexer": "ipython3",
   "version": "3.9.13"
  },
  "orig_nbformat": 4,
  "vscode": {
   "interpreter": {
    "hash": "5049d1ec396f62584122cbc76ce6da9d7517d2d54b74d18a78749445f9d10580"
   }
  }
 },
 "nbformat": 4,
 "nbformat_minor": 2
}
